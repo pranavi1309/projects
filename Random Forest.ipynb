{
 "cells": [
  {
   "cell_type": "markdown",
   "id": "543d44b6-5862-4ebc-8e99-f142a84baa8b",
   "metadata": {},
   "source": [
    "**Random Forest**"
   ]
  },
  {
   "cell_type": "markdown",
   "id": "b06c1aab-a713-4409-9ef9-f1f285b91118",
   "metadata": {},
   "source": [
    "The provided Python script effectively translates the functionality of the R code into Python using libraries such as pandas, scikit-learn, and numpy. It begins by loading data directly from the clipboard, similar to the R read.csv function, and processes it with pandas. The chas column, which is categorical in nature, is converted into a categorical data type using astype('category'). Following this, the data is split into training and test sets using train_test_split from scikit-learn, ensuring an 80-20 split by specifying the test_size parameter and setting a random seed for reproducibility.\n",
    "\n",
    "The Random Forest model is then configured, focusing on optimizing the max_features parameter, which is the scikit-learn equivalent of R’s mtry. The parameter grid is defined with a range of values ([2, 4, 6, 8]) and passed to GridSearchCV for hyperparameter tuning with 5-fold cross-validation. The GridSearchCV method ensures that the model is evaluated on multiple subsets of the training data, leading to more robust performance metrics. The number of decision trees (n_estimators) in the forest is set to 2000 to align with the R script's ntree parameter.\n",
    "\n",
    "Once the best model is identified based on the grid search, predictions are made on the test dataset using the predict method. Model evaluation is performed using two metrics: the Mean Absolute Percentage Error (MAPE), with a complementary 1 - MAPE score reported for interpretability, and the Root Mean Squared Error (RMSE). These metrics provide insights into the model's accuracy and its average prediction error magnitude, respectively.\n",
    "\n",
    "The script’s structure, from data processing to hyperparameter tuning and evaluation, mirrors the flow and intent of the R script, offering a highly detailed and reproducible machine learning pipeline for regression analysis."
   ]
  },
  {
   "cell_type": "code",
   "execution_count": 1,
   "id": "ed33008f-971a-4cb4-83e0-ed0399a49b61",
   "metadata": {},
   "outputs": [],
   "source": [
    "# Import necessary libraries\n",
    "import pandas as pd\n",
    "import numpy as np\n",
    "from sklearn.ensemble import RandomForestRegressor\n",
    "from sklearn.model_selection import train_test_split, GridSearchCV, cross_val_score\n",
    "from sklearn.metrics import mean_absolute_percentage_error, mean_squared_error"
   ]
  },
  {
   "cell_type": "code",
   "execution_count": 2,
   "id": "273b7b31-077a-427e-ae8a-9e7a026dada8",
   "metadata": {},
   "outputs": [],
   "source": [
    "# Load data\n",
    "data = pd.read_clipboard(sep=\"\\t\")"
   ]
  },
  {
   "cell_type": "code",
   "execution_count": 3,
   "id": "18eb6d34-805f-4a86-83d2-01215cc299dc",
   "metadata": {},
   "outputs": [],
   "source": [
    "# Convert 'chas' to a categorical variable\n",
    "data['chas'] = data['chas'].astype('category')"
   ]
  },
  {
   "cell_type": "code",
   "execution_count": 4,
   "id": "4b206677-4cac-4541-8271-c1242ce7fea9",
   "metadata": {},
   "outputs": [],
   "source": [
    "# Split the data into train and test sets\n",
    "np.random.seed(1234)\n",
    "train, test = train_test_split(data, test_size=0.2, random_state=1234)\n"
   ]
  },
  {
   "cell_type": "code",
   "execution_count": 5,
   "id": "43a15688-f920-45b3-9733-aa4134fd3ae8",
   "metadata": {},
   "outputs": [],
   "source": [
    "# Define the feature matrix (X) and target vector (y)\n",
    "X_train = train.drop(columns=['medv'])\n",
    "y_train = train['medv']\n",
    "X_test = test.drop(columns=['medv'])\n",
    "y_test = test['medv']"
   ]
  },
  {
   "cell_type": "code",
   "execution_count": 6,
   "id": "65c1b78e-2341-433e-ac6e-e363e9b44fd0",
   "metadata": {},
   "outputs": [],
   "source": [
    "# Define the parameter grid for 'mtry' equivalent (max_features in scikit-learn)\n",
    "param_grid = {'max_features': [2, 4, 6, 8]}\n"
   ]
  },
  {
   "cell_type": "code",
   "execution_count": 7,
   "id": "3f2650f8-8283-4f5a-8c82-d737134eff92",
   "metadata": {},
   "outputs": [],
   "source": [
    "# Initialize the Random Forest model\n",
    "rf = RandomForestRegressor(n_estimators=2000, random_state=1234)"
   ]
  },
  {
   "cell_type": "code",
   "execution_count": 8,
   "id": "7127ee69-7b12-4d0b-a429-76a4cefaf6ff",
   "metadata": {},
   "outputs": [
    {
     "data": {
      "text/html": [
       "<style>#sk-container-id-1 {color: black;background-color: white;}#sk-container-id-1 pre{padding: 0;}#sk-container-id-1 div.sk-toggleable {background-color: white;}#sk-container-id-1 label.sk-toggleable__label {cursor: pointer;display: block;width: 100%;margin-bottom: 0;padding: 0.3em;box-sizing: border-box;text-align: center;}#sk-container-id-1 label.sk-toggleable__label-arrow:before {content: \"▸\";float: left;margin-right: 0.25em;color: #696969;}#sk-container-id-1 label.sk-toggleable__label-arrow:hover:before {color: black;}#sk-container-id-1 div.sk-estimator:hover label.sk-toggleable__label-arrow:before {color: black;}#sk-container-id-1 div.sk-toggleable__content {max-height: 0;max-width: 0;overflow: hidden;text-align: left;background-color: #f0f8ff;}#sk-container-id-1 div.sk-toggleable__content pre {margin: 0.2em;color: black;border-radius: 0.25em;background-color: #f0f8ff;}#sk-container-id-1 input.sk-toggleable__control:checked~div.sk-toggleable__content {max-height: 200px;max-width: 100%;overflow: auto;}#sk-container-id-1 input.sk-toggleable__control:checked~label.sk-toggleable__label-arrow:before {content: \"▾\";}#sk-container-id-1 div.sk-estimator input.sk-toggleable__control:checked~label.sk-toggleable__label {background-color: #d4ebff;}#sk-container-id-1 div.sk-label input.sk-toggleable__control:checked~label.sk-toggleable__label {background-color: #d4ebff;}#sk-container-id-1 input.sk-hidden--visually {border: 0;clip: rect(1px 1px 1px 1px);clip: rect(1px, 1px, 1px, 1px);height: 1px;margin: -1px;overflow: hidden;padding: 0;position: absolute;width: 1px;}#sk-container-id-1 div.sk-estimator {font-family: monospace;background-color: #f0f8ff;border: 1px dotted black;border-radius: 0.25em;box-sizing: border-box;margin-bottom: 0.5em;}#sk-container-id-1 div.sk-estimator:hover {background-color: #d4ebff;}#sk-container-id-1 div.sk-parallel-item::after {content: \"\";width: 100%;border-bottom: 1px solid gray;flex-grow: 1;}#sk-container-id-1 div.sk-label:hover label.sk-toggleable__label {background-color: #d4ebff;}#sk-container-id-1 div.sk-serial::before {content: \"\";position: absolute;border-left: 1px solid gray;box-sizing: border-box;top: 0;bottom: 0;left: 50%;z-index: 0;}#sk-container-id-1 div.sk-serial {display: flex;flex-direction: column;align-items: center;background-color: white;padding-right: 0.2em;padding-left: 0.2em;position: relative;}#sk-container-id-1 div.sk-item {position: relative;z-index: 1;}#sk-container-id-1 div.sk-parallel {display: flex;align-items: stretch;justify-content: center;background-color: white;position: relative;}#sk-container-id-1 div.sk-item::before, #sk-container-id-1 div.sk-parallel-item::before {content: \"\";position: absolute;border-left: 1px solid gray;box-sizing: border-box;top: 0;bottom: 0;left: 50%;z-index: -1;}#sk-container-id-1 div.sk-parallel-item {display: flex;flex-direction: column;z-index: 1;position: relative;background-color: white;}#sk-container-id-1 div.sk-parallel-item:first-child::after {align-self: flex-end;width: 50%;}#sk-container-id-1 div.sk-parallel-item:last-child::after {align-self: flex-start;width: 50%;}#sk-container-id-1 div.sk-parallel-item:only-child::after {width: 0;}#sk-container-id-1 div.sk-dashed-wrapped {border: 1px dashed gray;margin: 0 0.4em 0.5em 0.4em;box-sizing: border-box;padding-bottom: 0.4em;background-color: white;}#sk-container-id-1 div.sk-label label {font-family: monospace;font-weight: bold;display: inline-block;line-height: 1.2em;}#sk-container-id-1 div.sk-label-container {text-align: center;}#sk-container-id-1 div.sk-container {/* jupyter's `normalize.less` sets `[hidden] { display: none; }` but bootstrap.min.css set `[hidden] { display: none !important; }` so we also need the `!important` here to be able to override the default hidden behavior on the sphinx rendered scikit-learn.org. See: https://github.com/scikit-learn/scikit-learn/issues/21755 */display: inline-block !important;position: relative;}#sk-container-id-1 div.sk-text-repr-fallback {display: none;}</style><div id=\"sk-container-id-1\" class=\"sk-top-container\"><div class=\"sk-text-repr-fallback\"><pre>GridSearchCV(cv=5,\n",
       "             estimator=RandomForestRegressor(n_estimators=2000,\n",
       "                                             random_state=1234),\n",
       "             n_jobs=-1, param_grid={&#x27;max_features&#x27;: [2, 4, 6, 8]},\n",
       "             scoring=&#x27;neg_mean_squared_error&#x27;)</pre><b>In a Jupyter environment, please rerun this cell to show the HTML representation or trust the notebook. <br />On GitHub, the HTML representation is unable to render, please try loading this page with nbviewer.org.</b></div><div class=\"sk-container\" hidden><div class=\"sk-item sk-dashed-wrapped\"><div class=\"sk-label-container\"><div class=\"sk-label sk-toggleable\"><input class=\"sk-toggleable__control sk-hidden--visually\" id=\"sk-estimator-id-1\" type=\"checkbox\" ><label for=\"sk-estimator-id-1\" class=\"sk-toggleable__label sk-toggleable__label-arrow\">GridSearchCV</label><div class=\"sk-toggleable__content\"><pre>GridSearchCV(cv=5,\n",
       "             estimator=RandomForestRegressor(n_estimators=2000,\n",
       "                                             random_state=1234),\n",
       "             n_jobs=-1, param_grid={&#x27;max_features&#x27;: [2, 4, 6, 8]},\n",
       "             scoring=&#x27;neg_mean_squared_error&#x27;)</pre></div></div></div><div class=\"sk-parallel\"><div class=\"sk-parallel-item\"><div class=\"sk-item\"><div class=\"sk-label-container\"><div class=\"sk-label sk-toggleable\"><input class=\"sk-toggleable__control sk-hidden--visually\" id=\"sk-estimator-id-2\" type=\"checkbox\" ><label for=\"sk-estimator-id-2\" class=\"sk-toggleable__label sk-toggleable__label-arrow\">estimator: RandomForestRegressor</label><div class=\"sk-toggleable__content\"><pre>RandomForestRegressor(n_estimators=2000, random_state=1234)</pre></div></div></div><div class=\"sk-serial\"><div class=\"sk-item\"><div class=\"sk-estimator sk-toggleable\"><input class=\"sk-toggleable__control sk-hidden--visually\" id=\"sk-estimator-id-3\" type=\"checkbox\" ><label for=\"sk-estimator-id-3\" class=\"sk-toggleable__label sk-toggleable__label-arrow\">RandomForestRegressor</label><div class=\"sk-toggleable__content\"><pre>RandomForestRegressor(n_estimators=2000, random_state=1234)</pre></div></div></div></div></div></div></div></div></div></div>"
      ],
      "text/plain": [
       "GridSearchCV(cv=5,\n",
       "             estimator=RandomForestRegressor(n_estimators=2000,\n",
       "                                             random_state=1234),\n",
       "             n_jobs=-1, param_grid={'max_features': [2, 4, 6, 8]},\n",
       "             scoring='neg_mean_squared_error')"
      ]
     },
     "execution_count": 8,
     "metadata": {},
     "output_type": "execute_result"
    }
   ],
   "source": [
    "# Perform Grid Search with Cross Validation\n",
    "grid_search = GridSearchCV(estimator=rf, param_grid=param_grid, cv=5, scoring='neg_mean_squared_error', n_jobs=-1)\n",
    "grid_search.fit(X_train, y_train)"
   ]
  },
  {
   "cell_type": "code",
   "execution_count": 9,
   "id": "33f8f9b4-2439-4e2b-bb8c-a952e8cbb918",
   "metadata": {},
   "outputs": [
    {
     "name": "stdout",
     "output_type": "stream",
     "text": [
      "Best hyperparameters: {'max_features': 6}\n",
      "1 - MAPE: 0.8888084987045756\n",
      "RMSE: 2.982834132541551\n"
     ]
    }
   ],
   "source": [
    "# Best model\n",
    "best_rf_model = grid_search.best_estimator_\n",
    "# Print the best hyperparameters\n",
    "print(\"Best hyperparameters:\", grid_search.best_params_)\n",
    "\n",
    "# Predict on test data\n",
    "predicted_rf = best_rf_model.predict(X_test)\n",
    "\n",
    "# Evaluate the model\n",
    "mape_score = 1 - mean_absolute_percentage_error(y_test, predicted_rf)\n",
    "rmse_score = np.sqrt(mean_squared_error(y_test, predicted_rf))\n",
    "\n",
    "print(\"1 - MAPE:\", mape_score)\n",
    "print(\"RMSE:\", rmse_score)"
   ]
  },
  {
   "cell_type": "code",
   "execution_count": null,
   "id": "e930da23-bf2a-44aa-8f1a-63f32d5d604d",
   "metadata": {},
   "outputs": [],
   "source": []
  }
 ],
 "metadata": {
  "kernelspec": {
   "display_name": "Python 3 (ipykernel)",
   "language": "python",
   "name": "python3"
  },
  "language_info": {
   "codemirror_mode": {
    "name": "ipython",
    "version": 3
   },
   "file_extension": ".py",
   "mimetype": "text/x-python",
   "name": "python",
   "nbconvert_exporter": "python",
   "pygments_lexer": "ipython3",
   "version": "3.11.7"
  }
 },
 "nbformat": 4,
 "nbformat_minor": 5
}
